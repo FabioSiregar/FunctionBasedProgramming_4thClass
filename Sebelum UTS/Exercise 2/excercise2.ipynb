{
 "cells": [
  {
   "cell_type": "code",
   "execution_count": 1,
   "metadata": {},
   "outputs": [
    {
     "name": "stdout",
     "output_type": "stream",
     "text": [
      "11618630337554814826348086790285854587429944447132304038458358061424824076107783714807302076307079168\n"
     ]
    }
   ],
   "source": [
    "import numpy as np\n",
    "a = open(\"text1.txt\", 'w')\n",
    "a.write(\"9502561694858652150281747994108545943651521215096841995237040384498740803993469376602031341619585763\")\n",
    "a.close()\n",
    "aa = open(\"text1.txt\", 'r')\n",
    "f1=np.array(aa.read().split(\"\\n\")).astype(float)\n",
    "ff1 = int(f1)\n",
    "\n",
    "\n",
    "b = open(\"text2.txt\", 'w')\n",
    "b.write(\"2116068642696162934965789080530992805391900568978958496201555855833896833372295507803936243187061092\")\n",
    "b.close()\n",
    "bb = open(\"text2.txt\", 'r')\n",
    "f2=np.array(bb.read().split(\"\\n\")).astype(float)\n",
    "ff2 = int(f2)\n",
    "\n",
    "f3 = ff1 + ff2\n",
    "print(f3)"
   ]
  }
 ],
 "metadata": {
  "interpreter": {
   "hash": "3fe9e6856859bba8bf2d9edb5e25f46132f5c330039d6110406462884d9c2f66"
  },
  "kernelspec": {
   "display_name": "Python 3.10.4 64-bit (windows store)",
   "language": "python",
   "name": "python3"
  },
  "language_info": {
   "codemirror_mode": {
    "name": "ipython",
    "version": 3
   },
   "file_extension": ".py",
   "mimetype": "text/x-python",
   "name": "python",
   "nbconvert_exporter": "python",
   "pygments_lexer": "ipython3",
   "version": "3.10.4"
  },
  "orig_nbformat": 4
 },
 "nbformat": 4,
 "nbformat_minor": 2
}
