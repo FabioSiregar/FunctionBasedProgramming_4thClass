{
 "cells": [
  {
   "cell_type": "markdown",
   "metadata": {},
   "source": [
    "Fabio Hedfam Gagano Siregar"
   ]
  },
  {
   "cell_type": "markdown",
   "metadata": {},
   "source": [
    "120450100"
   ]
  },
  {
   "cell_type": "markdown",
   "metadata": {},
   "source": [
    "RB"
   ]
  },
  {
   "cell_type": "markdown",
   "metadata": {},
   "source": [
    "Buatlah sebuah fungsi bernama ulangi_NIM, ulangi memiliki input sebuah bilangan skalar\n",
    "a, dan mengeluarkan vektor 1xn dengan seluruh elemen nya adalah a !"
   ]
  },
  {
   "cell_type": "code",
   "execution_count": 1,
   "metadata": {},
   "outputs": [
    {
     "name": "stdout",
     "output_type": "stream",
     "text": [
      "bilangan skalar : 8\n"
     ]
    },
    {
     "data": {
      "text/plain": [
       "[1, 2, 3, 4, 5, 6, 7, 8]"
      ]
     },
     "execution_count": 1,
     "metadata": {},
     "output_type": "execute_result"
    }
   ],
   "source": [
    "n = 8\n",
    "def ulangi_100(n): \n",
    "    a = list(map(lambda n: 1*n, range(1,n+1))) #scalar number code\n",
    "    return a\n",
    "print('bilangan skalar :', n)\n",
    "ulangi_100(n)"
   ]
  },
  {
   "cell_type": "markdown",
   "metadata": {},
   "source": [
    "Buatlah deret bilangan sebagai berikut dengan input n sebagai panjang deret:\n"
   ]
  },
  {
   "cell_type": "code",
   "execution_count": 2,
   "metadata": {},
   "outputs": [
    {
     "name": "stdout",
     "output_type": "stream",
     "text": [
      "[-1.0, -0.75, -0.6666666666666666, -0.625, -0.6000000000000001]\n"
     ]
    }
   ],
   "source": [
    "#row length\n",
    "n = 5\n",
    "deret = list(map(lambda x: ((-1)*(x+1)) * (1/(2*x)), range(1,n+1)))\n",
    "print(deret)"
   ]
  },
  {
   "cell_type": "code",
   "execution_count": 3,
   "metadata": {},
   "outputs": [
    {
     "name": "stdout",
     "output_type": "stream",
     "text": [
      "[-0.25, -0.3333333333333333, -0.375, -0.4, -0.41666666666666663]\n"
     ]
    }
   ],
   "source": [
    "b = range(1,n+1)\n",
    "\n",
    "def pola_deret(x):\n",
    "    return ((-1)*(x)) * (1/(2*(x+1)))\n",
    "print(list(map(pola_deret, b)))"
   ]
  },
  {
   "cell_type": "markdown",
   "metadata": {},
   "source": [
    "Jumlahkan deret bilangan tersebut!\n"
   ]
  },
  {
   "cell_type": "markdown",
   "metadata": {},
   "source": [
    "* first, import library \"functools\" to retrieve reduce . function \n",
    "* second, write the function with reduce that we have "
   ]
  },
  {
   "cell_type": "code",
   "execution_count": 4,
   "metadata": {},
   "outputs": [
    {
     "name": "stdout",
     "output_type": "stream",
     "text": [
      "-3.6416666666666666\n"
     ]
    }
   ],
   "source": [
    "from functools import reduce\n",
    "print(reduce(lambda x,y: x+y, deret))"
   ]
  },
  {
   "cell_type": "markdown",
   "metadata": {},
   "source": [
    "Sebuah DNA dimodelkan dalam sebuah string menjadi sequence TCGA dan disimpan ke dalam data :"
   ]
  },
  {
   "cell_type": "markdown",
   "metadata": {},
   "source": [
    "*the first dat is used to read \"txt\", then the second dat is used to remove \"/n\" in the data when it is read*"
   ]
  },
  {
   "cell_type": "code",
   "execution_count": 5,
   "metadata": {},
   "outputs": [],
   "source": [
    "dat = open(\"dna.txt\", 'r').read()\n",
    "dat=dat[:-1]\n",
    "seq='ACT'"
   ]
  },
  {
   "cell_type": "markdown",
   "metadata": {},
   "source": [
    "*The append function is used to add n characters to i* ; \n",
    "*remap function is useful to remap all seq functions*\n"
   ]
  },
  {
   "cell_type": "code",
   "execution_count": 6,
   "metadata": {},
   "outputs": [
    {
     "data": {
      "text/plain": [
       "'TGT'"
      ]
     },
     "execution_count": 6,
     "metadata": {},
     "output_type": "execute_result"
    }
   ],
   "source": [
    "seq=\"ACT\"\n",
    "def append_n(dat, i, n):\n",
    "    return reduce(lambda x, y: x + y, [dat[i:i+n]])\n",
    "append_n(dat, 0, 3)"
   ]
  },
  {
   "cell_type": "code",
   "execution_count": null,
   "metadata": {},
   "outputs": [],
   "source": [
    "def remap(dat, seq):\n",
    "    return map(lambda x:append_n(dat, x,len(seq)), range(0, len(dat)-len(seq)+1))\n",
    "list(remap(dat,\"ACT\"))"
   ]
  },
  {
   "cell_type": "code",
   "execution_count": 8,
   "metadata": {},
   "outputs": [
    {
     "data": {
      "text/plain": [
       "106"
      ]
     },
     "execution_count": 8,
     "metadata": {},
     "output_type": "execute_result"
    }
   ],
   "source": [
    "def count_mer (dat,seq):\n",
    "    return reduce(lambda x,y:x +(1 if y==seq else 0), remap(dat,seq), 0)\n",
    "count_mer(dat,\"ACT\")"
   ]
  },
  {
   "cell_type": "code",
   "execution_count": 9,
   "metadata": {},
   "outputs": [
    {
     "data": {
      "text/plain": [
       "6930"
      ]
     },
     "execution_count": 9,
     "metadata": {},
     "output_type": "execute_result"
    }
   ],
   "source": [
    "list(remap(dat,'ACT'))[-1]\n",
    "len(dat)"
   ]
  },
  {
   "cell_type": "markdown",
   "metadata": {},
   "source": [
    "* *sequence is used for dictonary to store the result of count_mer*\n",
    "* *count_all is used to count all seq*\n",
    "* *res is used to call all number of seq we are looking for*"
   ]
  },
  {
   "cell_type": "code",
   "execution_count": 10,
   "metadata": {},
   "outputs": [
    {
     "name": "stdout",
     "output_type": "stream",
     "text": [
      "2112 557 77 22 5\n"
     ]
    }
   ],
   "source": [
    "sequences=[\"A\",\"AT\",\"GGT\", \"AAGC\", \"AGCTA\"]\n",
    "\n",
    "def count_all(dat, sequences):\n",
    "    return map(lambda x: count_mer(dat,x), sequences)\n",
    "\n",
    "res=count_all(dat,sequences)\n",
    "print(*res)"
   ]
  },
  {
   "cell_type": "markdown",
   "metadata": {},
   "source": [
    "* *complement is used as a library for complement*\n",
    "* *reverse complement is used to convert complement to reverse*"
   ]
  },
  {
   "cell_type": "code",
   "execution_count": 11,
   "metadata": {},
   "outputs": [],
   "source": [
    "def komplemen(x):\n",
    "    return{'A':'T','T':'A','C':'G', 'G' :'C'}.get(x)\n",
    "\n",
    "def reverse_komplemen(f):\n",
    "    return map(lambda x:komplemen(x),f)"
   ]
  },
  {
   "cell_type": "code",
   "execution_count": null,
   "metadata": {},
   "outputs": [],
   "source": [
    "res = reverse_komplemen(dat) #to call all komplemen\n",
    "print(*res)"
   ]
  },
  {
   "cell_type": "markdown",
   "metadata": {},
   "source": [
    "Number 6"
   ]
  },
  {
   "cell_type": "markdown",
   "metadata": {},
   "source": [
    "* *first we need to call the math library*\n",
    "* *def activasi is used to calculate activation function*\n",
    "* *def WTi is used to transpose matrix*\n",
    "* *def WT is used to accommodate calculations*\n",
    "* *def XW is used for calculations for one input*\n",
    "* *def input_to_hidden is used to run the activation function*\n",
    "* *W shape must be the same as M to match the pattern that has been made*"
   ]
  },
  {
   "cell_type": "code",
   "execution_count": 13,
   "metadata": {},
   "outputs": [],
   "source": [
    "import math\n",
    "\n",
    "def aktivasi(x):\n",
    "    return 1/(1+math.exp(-x))\n",
    "def WTi(W,i):\n",
    "    return list(map(lambda w:w[i],W))\n",
    "def WT(W):\n",
    "    return list(map(lambda i:WTi(W,i),range(len(W[0]))))\n",
    "def XW(X,W):\n",
    "    return map(lambda w: reduce(lambda a,b:a+b, map(lambda xx,ww:xx*ww,X,w),0),WT(W))\n",
    "def input_to_hidden(X,W):\n",
    "    return list(map(lambda x:aktivasi(x),XW(X,W)))\n",
    "def feed_forward(X,W,M):\n",
    "    return input_to_hidden(input_to_hidden(X,W),M)"
   ]
  },
  {
   "cell_type": "code",
   "execution_count": 14,
   "metadata": {},
   "outputs": [
    {
     "data": {
      "text/plain": [
       "[0.6876336740661236]"
      ]
     },
     "execution_count": 14,
     "metadata": {},
     "output_type": "execute_result"
    }
   ],
   "source": [
    "X=[9,10,-4]\n",
    "W=[[0.5,0.4],[0.3,0.7],[0.25,0.9]]\n",
    "M=[[0.34],[0.45]]\n",
    "\n",
    "feed_forward(X,W,M)"
   ]
  }
 ],
 "metadata": {
  "interpreter": {
   "hash": "3fe9e6856859bba8bf2d9edb5e25f46132f5c330039d6110406462884d9c2f66"
  },
  "kernelspec": {
   "display_name": "Python 3 (ipykernel)",
   "language": "python",
   "name": "python3"
  },
  "language_info": {
   "codemirror_mode": {
    "name": "ipython",
    "version": 3
   },
   "file_extension": ".py",
   "mimetype": "text/x-python",
   "name": "python",
   "nbconvert_exporter": "python",
   "pygments_lexer": "ipython3",
   "version": "3.10.4"
  }
 },
 "nbformat": 4,
 "nbformat_minor": 4
}
