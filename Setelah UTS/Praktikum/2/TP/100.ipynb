{
 "cells": [
  {
   "cell_type": "markdown",
   "metadata": {},
   "source": [
    "Fabio Hedfam Gagano Siregar\n"
   ]
  },
  {
   "cell_type": "markdown",
   "metadata": {},
   "source": [
    "120450100"
   ]
  },
  {
   "cell_type": "markdown",
   "metadata": {},
   "source": [
    "RB"
   ]
  },
  {
   "cell_type": "markdown",
   "metadata": {},
   "source": [
    "Buatlah sebuah fungsi bernama ulangi_NIM, ulangi memiliki input sebuah bilangan skalar\n",
    "a, dan mengeluarkan vektor 1xn dengan seluruh elemen nya adalah a !"
   ]
  },
  {
   "cell_type": "code",
   "execution_count": 24,
   "metadata": {},
   "outputs": [
    {
     "name": "stdout",
     "output_type": "stream",
     "text": [
      "[2]\n"
     ]
    }
   ],
   "source": [
    "a = int(input(\"Masukkan jumlah bilangan skalar a : \"))\n",
    "L = list(map(int,input(\"\\nMasukkan bilangan skalar a : \").strip().split()))[:a]\n",
    "def ulangi_100(n):\n",
    " return n * 1\n",
    "print(list(map(ulangi_100, L)))"
   ]
  },
  {
   "cell_type": "markdown",
   "metadata": {},
   "source": [
    "Buatlah deret bilangan sebagai berikut dengan input n sebagai panjang deret:"
   ]
  },
  {
   "cell_type": "code",
   "execution_count": 1,
   "metadata": {},
   "outputs": [
    {
     "name": "stdout",
     "output_type": "stream",
     "text": [
      "[0.5, -0.25, 0.125, -0.0625, 0.03125]\n"
     ]
    }
   ],
   "source": [
    "x=int(input('enter the sum of the length of the series : '))\n",
    "a=list(range(1,x+1))\n",
    "\n",
    "def deret(x):\n",
    "    return((-1)**(x+1)*(1/(2**x)))\n",
    "print(list(map(deret,a)))"
   ]
  },
  {
   "cell_type": "markdown",
   "metadata": {},
   "source": [
    "Jumlahkan deret bilangan tersebut!"
   ]
  },
  {
   "cell_type": "code",
   "execution_count": 26,
   "metadata": {},
   "outputs": [
    {
     "name": "stdout",
     "output_type": "stream",
     "text": [
      "a: 0.5 , b: -0.25 -> a+b: 0.25\n",
      "a: 0.25 , b: 0.125 -> a+b: 0.375\n",
      "0.375\n"
     ]
    }
   ],
   "source": [
    "from functools import reduce as r\n",
    "L = list(map(deret,a)) \n",
    "def add(a,b):\n",
    "    res = a+b\n",
    "    print('a:',a,', b:',b, '-> a+b:',res)\n",
    "    return res\n",
    "print(r( add, L ))"
   ]
  },
  {
   "cell_type": "markdown",
   "metadata": {},
   "source": [
    "Sebuah DNA dimodelkan dalam sebuah string menjadi sequence TCGA dan disimpan ke\n",
    "dalam data :"
   ]
  },
  {
   "cell_type": "code",
   "execution_count": 27,
   "metadata": {},
   "outputs": [
    {
     "name": "stdout",
     "output_type": "stream",
     "text": [
      "TGTCT\n"
     ]
    }
   ],
   "source": [
    "f = open(\"dna.txt\", \"r\")\n",
    "print(f.read(5))"
   ]
  },
  {
   "cell_type": "code",
   "execution_count": 28,
   "metadata": {},
   "outputs": [],
   "source": [
    "def count_matches(dna, pattern):\n",
    "  indexes = range(0, len(dna)-len(pattern))\n",
    "  matches_start_indexes = filter(lambda start_index: dna[start_index:start_index+len(pattern)] == pattern, indexes)\n",
    "  return len(list(matches_start_indexes))"
   ]
  }
 ],
 "metadata": {
  "interpreter": {
   "hash": "3fe9e6856859bba8bf2d9edb5e25f46132f5c330039d6110406462884d9c2f66"
  },
  "kernelspec": {
   "display_name": "Python 3.10.4 64-bit (windows store)",
   "language": "python",
   "name": "python3"
  },
  "language_info": {
   "codemirror_mode": {
    "name": "ipython",
    "version": 3
   },
   "file_extension": ".py",
   "mimetype": "text/x-python",
   "name": "python",
   "nbconvert_exporter": "python",
   "pygments_lexer": "ipython3",
   "version": "3.10.4"
  },
  "orig_nbformat": 4
 },
 "nbformat": 4,
 "nbformat_minor": 2
}
