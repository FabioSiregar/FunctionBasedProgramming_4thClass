{
 "cells": [
  {
   "cell_type": "code",
   "execution_count": 19,
   "metadata": {},
   "outputs": [
    {
     "name": "stdout",
     "output_type": "stream",
     "text": [
      " Jumlah hari pinjam terhitung 26 hari \n"
     ]
    }
   ],
   "source": [
    "buku = ['PBF', 'ALSTRAT', 'SWARM', 'BASDAT', 'SSD']\n",
    "max_print = 50\n",
    "\n",
    "def hal_buk(hal):\n",
    "    tot_hal = {\"PBF\": 100, \"ALSTRAT\": 250, \"SWARM\": 200, \"BASDAT\": 350, \"SSD\": 400}\n",
    "    halaman = tot_hal[hal]\n",
    "    return halaman\n",
    "\n",
    "def har_buk(x):\n",
    "    harga = {\"PBF\": 1000,\"ALSTRAT\": 1000,\"SWARM\":1500,\"BASDAT\": 1500,\"SSD\": 2000}\n",
    "    hargab = harga[x]\n",
    "    return hargab\n",
    "\n",
    "jum_hal = list(map(hal_buk, buku))\n",
    "harga_buku = list(map(har_buk, buku))\n",
    "\n",
    "har_pin = lambda x: sum(x)/ max_print\n",
    "halbuk = round(har_pin(jum_hal))\n",
    "print(f' Jumlah hari pinjam terhitung {halbuk} hari ')"
   ]
  },
  {
   "cell_type": "code",
   "execution_count": 20,
   "metadata": {},
   "outputs": [
    {
     "name": "stdout",
     "output_type": "stream",
     "text": [
      " berikut jumlah yang harus dibayar: Rp  182000\n"
     ]
    }
   ],
   "source": [
    "tot_har = lambda x: halbuk * sum(x)\n",
    "print(f' berikut jumlah yang harus dibayar: Rp ', tot_har(harga_buku))"
   ]
  }
 ],
 "metadata": {
  "interpreter": {
   "hash": "3fe9e6856859bba8bf2d9edb5e25f46132f5c330039d6110406462884d9c2f66"
  },
  "kernelspec": {
   "display_name": "Python 3.10.4 64-bit (windows store)",
   "language": "python",
   "name": "python3"
  },
  "language_info": {
   "codemirror_mode": {
    "name": "ipython",
    "version": 3
   },
   "file_extension": ".py",
   "mimetype": "text/x-python",
   "name": "python",
   "nbconvert_exporter": "python",
   "pygments_lexer": "ipython3",
   "version": "3.10.4"
  },
  "orig_nbformat": 4
 },
 "nbformat": 4,
 "nbformat_minor": 2
}
