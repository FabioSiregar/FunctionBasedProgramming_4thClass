{
 "cells": [
  {
   "cell_type": "markdown",
   "metadata": {},
   "source": [
    "# Latihan UAS"
   ]
  },
  {
   "cell_type": "raw",
   "metadata": {},
   "source": [
    "Nama  : Fabio Hedfam Gagano Siregar\n",
    "NIM   : 120450100\n",
    "kelas : RB"
   ]
  },
  {
   "cell_type": "markdown",
   "metadata": {},
   "source": [
    "#### a. Buatlah fungsi untuk membangkitkan matriks w, m, h secara random dengan batas bawah -1 dan batas atas 1."
   ]
  },
  {
   "cell_type": "code",
   "execution_count": 2,
   "metadata": {},
   "outputs": [],
   "source": [
    "import numpy as np\n",
    "\n",
    "gen_rand = lambda a, b, c: np.random.uniform(low = a, high = b, size = c)\n",
    "W = gen_rand(-1, 1, (3,2))\n",
    "M = gen_rand(-1, 1, (2,2))\n",
    "H = gen_rand(-1, 1, (1,1))"
   ]
  },
  {
   "cell_type": "markdown",
   "metadata": {},
   "source": [
    "#### b. Fungsi aktivasi untuk forward propagation"
   ]
  },
  {
   "cell_type": "code",
   "execution_count": 6,
   "metadata": {},
   "outputs": [],
   "source": [
    "\n",
    "import math\n",
    "import functools as ft\n",
    "\n",
    "def aktivasi(x):\n",
    "    return (math.exp(x)-math.exp(-x))/(math.exp(x)+math.exp(-x))\n",
    "def WTi(W, i):\n",
    "    return list(map( lambda w:w[i], W))\n",
    "def WT(W):\n",
    "    return list( map( lambda i : WTi(W, i), range(len(W[0])) ) )\n",
    "def XW(X,W):\n",
    "    return map( lambda w: ft.reduce( lambda a,b:a+b, map( lambda xx,vw: xx*vw, X, w), 0), WT(W) )\n",
    "\n",
    "def input_to_hidden(X, W):\n",
    "    return list( map( lambda x:aktivasi(x) , XW(X, W) ) )\n",
    "@calc_time_decorator\n",
    "def feed_forward(X, W, M, H):\n",
    "    return input_to_hidden(input_to_hidden(input_to_hidden(X, W), M), H)"
   ]
  },
  {
   "cell_type": "code",
   "execution_count": null,
   "metadata": {},
   "outputs": [
    {
     "name": "stdout",
     "output_type": "stream",
     "text": [
      "Time:  0.0\n",
      "Output: [-0.002505650206034338]\n"
     ]
    }
   ],
   "source": [
    "X = [ 1, 0, 0]\n",
    "forw_prop = feed_forward(X, W, M, H)\n",
    "print(f'Output: {forw_prop}')"
   ]
  },
  {
   "cell_type": "markdown",
   "metadata": {},
   "source": [
    "#### c. Buatlah decorator untuk menambahkan perhitungan running time"
   ]
  },
  {
   "cell_type": "code",
   "execution_count": 4,
   "metadata": {},
   "outputs": [],
   "source": [
    "import time\n",
    "\n",
    "def calc_time_decorator(func):\n",
    "    def inner(*args, **kwargs):\n",
    "        start = time.time()\n",
    "        res = func(*args, **kwargs)\n",
    "        end = time.time()\n",
    "        print('Time: ', end - start)\n",
    "        return res\n",
    "    return inner"
   ]
  },
  {
   "cell_type": "code",
   "execution_count": null,
   "metadata": {},
   "outputs": [],
   "source": [
    "calc_time_decorator()"
   ]
  }
 ],
 "metadata": {
  "interpreter": {
   "hash": "487573f6083f88ea4e0d70a8f8fa0c2ca2be54f1783392b9422ae7990c630882"
  },
  "kernelspec": {
   "display_name": "Python 3 (ipykernel)",
   "language": "python",
   "name": "python3"
  },
  "language_info": {
   "codemirror_mode": {
    "name": "ipython",
    "version": 3
   },
   "file_extension": ".py",
   "mimetype": "text/x-python",
   "name": "python",
   "nbconvert_exporter": "python",
   "pygments_lexer": "ipython3",
   "version": "3.10.4"
  }
 },
 "nbformat": 4,
 "nbformat_minor": 4
}
