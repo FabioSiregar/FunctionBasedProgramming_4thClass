{
 "cells": [
  {
   "cell_type": "markdown",
   "metadata": {},
   "source": [
    "# Identity"
   ]
  },
  {
   "cell_type": "markdown",
   "metadata": {},
   "source": [
    "- Fabio Hedfam Gagano Siregar\n",
    "- 120450100\n",
    "- RB"
   ]
  },
  {
   "cell_type": "markdown",
   "metadata": {},
   "source": [
    "# Library"
   ]
  },
  {
   "cell_type": "code",
   "execution_count": 5,
   "metadata": {},
   "outputs": [],
   "source": [
    "import pandas as pd\n",
    "import numpy as np\n",
    "from functools import reduce as r"
   ]
  },
  {
   "cell_type": "markdown",
   "metadata": {},
   "source": [
    "# Pertemuan 9"
   ]
  },
  {
   "cell_type": "raw",
   "metadata": {},
   "source": [
    "What's The output ?"
   ]
  },
  {
   "cell_type": "code",
   "execution_count": 2,
   "metadata": {},
   "outputs": [],
   "source": [
    "Factor = lambda n:filter(lambda i:n%i==0,range(1,n+1))"
   ]
  },
  {
   "cell_type": "code",
   "execution_count": 3,
   "metadata": {},
   "outputs": [
    {
     "name": "stdout",
     "output_type": "stream",
     "text": [
      "1 2 3 4 6 8 12 24\n"
     ]
    }
   ],
   "source": [
    "print( * Factor(24) )"
   ]
  },
  {
   "cell_type": "raw",
   "metadata": {},
   "source": [
    "Latihan Filter"
   ]
  },
  {
   "cell_type": "markdown",
   "metadata": {},
   "source": [
    "Buat program untuk menghitung deret bilangan prima dari 2 hingga N menggunakan HOF filter dan map"
   ]
  },
  {
   "cell_type": "code",
   "execution_count": 4,
   "metadata": {},
   "outputs": [],
   "source": [
    "def is_prime(n):\n",
    "    return True not in [n%k==0 for k in range(2,n)]\n",
    "\n",
    "def primes(m):\n",
    "    return [n for n in range(2,m) if is_prime(n)]"
   ]
  },
  {
   "cell_type": "code",
   "execution_count": 5,
   "metadata": {},
   "outputs": [
    {
     "name": "stdout",
     "output_type": "stream",
     "text": [
      "[2, 3, 5, 7, 11, 13, 17, 19, 23, 29, 31, 37, 41, 43, 47, 53, 59, 61, 67, 71, 73, 79, 83, 89, 97]\n"
     ]
    }
   ],
   "source": [
    "print(primes(100))"
   ]
  },
  {
   "cell_type": "markdown",
   "metadata": {},
   "source": [
    "Terdapat dictionary employee berisi nama dan umur pegawai, lakukan filter untuk mengetahui pegawai\n",
    "yang berumur > 25 tahun !"
   ]
  },
  {
   "cell_type": "code",
   "execution_count": 6,
   "metadata": {},
   "outputs": [],
   "source": [
    "employee={\n",
    "    'Nagao':35,\n",
    "    'Ishii':30,\n",
    "    'Kazutomo':20,\n",
    "    'Saito':25,\n",
    "    'Hidemi':29\n",
    "}"
   ]
  },
  {
   "cell_type": "code",
   "execution_count": 7,
   "metadata": {},
   "outputs": [
    {
     "data": {
      "text/plain": [
       "3"
      ]
     },
     "execution_count": 7,
     "metadata": {},
     "output_type": "execute_result"
    }
   ],
   "source": [
    "cnt_emp = lambda lin, employee: r( lambda a,b: a+1 if b[1]>lin else a, employee.items(),0)\n",
    "cnt_emp(25,employee)"
   ]
  },
  {
   "cell_type": "markdown",
   "metadata": {},
   "source": [
    "# Pertemuan 10"
   ]
  },
  {
   "cell_type": "markdown",
   "metadata": {},
   "source": [
    "Buat fungsi mencari jumlah bilangan genap dari list L!"
   ]
  },
  {
   "cell_type": "code",
   "execution_count": 8,
   "metadata": {},
   "outputs": [],
   "source": [
    "L=[2,1,9,10,3,90,15]"
   ]
  },
  {
   "cell_type": "code",
   "execution_count": 9,
   "metadata": {},
   "outputs": [
    {
     "data": {
      "text/plain": [
       "3"
      ]
     },
     "execution_count": 9,
     "metadata": {},
     "output_type": "execute_result"
    }
   ],
   "source": [
    "r (lambda a,b:a+(1 if b % 2 == 0 else 0), L,0)"
   ]
  },
  {
   "cell_type": "markdown",
   "metadata": {},
   "source": [
    "Buat fungsi untuk menghitung n! Menggunakan reduce!"
   ]
  },
  {
   "cell_type": "code",
   "execution_count": 10,
   "metadata": {},
   "outputs": [
    {
     "name": "stdout",
     "output_type": "stream",
     "text": [
      "24\n"
     ]
    }
   ],
   "source": [
    "n = 4\n",
    "print(r(lambda x,y: x*y, range (1,n+1)))"
   ]
  },
  {
   "cell_type": "raw",
   "metadata": {},
   "source": [
    "Hitung euclidian distance dari dua vektor berikut menggunakan higher order\n",
    "function!\n",
    "X=[2,5,6,7,10]\n",
    "Y=[-2,9,2,-1,10]"
   ]
  },
  {
   "cell_type": "code",
   "execution_count": 11,
   "metadata": {},
   "outputs": [
    {
     "data": {
      "text/plain": [
       "10.583005244258363"
      ]
     },
     "execution_count": 11,
     "metadata": {},
     "output_type": "execute_result"
    }
   ],
   "source": [
    "X = [2, 5, 6, 7, 10]\n",
    "Y = [-2, 9, 2, -1, 10]\n",
    "\n",
    "euclidian = lambda X,Y: r(lambda a,c:a+c, map(lambda x,y: (x-y)**2, X,Y))**0.5\n",
    "euclidian(X,Y)"
   ]
  },
  {
   "cell_type": "markdown",
   "metadata": {},
   "source": [
    "Terdapat dictionary employee berisi nama dan umur pegawai, lakukan reduce untuk mengetahui berapa jumlah pegawai yang berumur > 25 tahun !"
   ]
  },
  {
   "cell_type": "raw",
   "metadata": {},
   "source": [
    "employee = {\n",
    "'Nagao':35,\n",
    "'Ishii':30,\n",
    "'Kazutomo':20,\n",
    "'Saito':25,\n",
    "'Hidemi':29\n",
    "}\n",
    "\n",
    "cnt_emp = lambda lin, employee: r( lambda a,b: a+1 if b[1]>lin else a, employee.items(),0)\n",
    "cnt_emp(25,employee)"
   ]
  },
  {
   "cell_type": "markdown",
   "metadata": {},
   "source": [
    "Buatlah deret fibonacci menggunakan higher order function!"
   ]
  },
  {
   "cell_type": "code",
   "execution_count": 9,
   "metadata": {},
   "outputs": [
    {
     "data": {
      "text/plain": [
       "[0, 1, 1, 2, 3, 5, 8, 13, 21, 34]"
      ]
     },
     "execution_count": 9,
     "metadata": {},
     "output_type": "execute_result"
    }
   ],
   "source": [
    "fib = lambda n: r(lambda x, _: x+[x[-1]+x[-2]], range(n-2), [0, 1])\n",
    "fib(10)"
   ]
  },
  {
   "cell_type": "markdown",
   "metadata": {},
   "source": [
    "# Pertemuan 11"
   ]
  },
  {
   "cell_type": "markdown",
   "metadata": {},
   "source": [
    "- Buat sebuah program untuk membuat deret fibonacci dari 0 hingga N dengan menggunakan fungsi non-rekursif dan rekursif!\n",
    "- Bandingkan keduanya jika nilai N = 500, Manakah yang lebih baik? Jelaskan!"
   ]
  },
  {
   "cell_type": "markdown",
   "metadata": {},
   "source": [
    "* rekursif"
   ]
  },
  {
   "cell_type": "code",
   "execution_count": null,
   "metadata": {},
   "outputs": [],
   "source": [
    "def fib(n):\n",
    "    if (n <= 2):\n",
    "        return 1\n",
    "    else:\n",
    "        return (fib(n-1)+fib(n-2))\n",
    "print (\"fungsi untuk menampilkan deret fibonacci sebanyak x buah\")\n",
    "n = 500\n",
    "for i in range (1,n):\n",
    "    print (fib(i))"
   ]
  },
  {
   "cell_type": "raw",
   "metadata": {},
   "source": [
    "deret fibonacci dengan fungsi rekursif menghasilkan run pada text editor sangat lama"
   ]
  },
  {
   "cell_type": "markdown",
   "metadata": {},
   "source": [
    "* non-rekursif"
   ]
  },
  {
   "cell_type": "code",
   "execution_count": null,
   "metadata": {},
   "outputs": [],
   "source": [
    "def fibonacci(n):\n",
    "    if n == 1:\n",
    "        return [1]\n",
    "    if n == 2:\n",
    "        return [1, 1]\n",
    "    fibs = [1, 1]\n",
    "    for _ in range(2, n):\n",
    "        fibs.append(fibs[-1] + fibs[-2])\n",
    "    return fibs\n",
    "\n",
    "print(fibonacci(500))"
   ]
  },
  {
   "cell_type": "markdown",
   "metadata": {},
   "source": [
    "# Pertemuan 12\n"
   ]
  },
  {
   "cell_type": "markdown",
   "metadata": {},
   "source": [
    "*Purity and Immutability*\n"
   ]
  },
  {
   "cell_type": "markdown",
   "metadata": {},
   "source": [
    "1 . Ubah fungsiku menjadi pure function!"
   ]
  },
  {
   "cell_type": "code",
   "execution_count": 5,
   "metadata": {},
   "outputs": [],
   "source": [
    "def fungsiku(L):\n",
    "    def check_genap(l):\n",
    "        return l% 2 ==0\n",
    "    for i in range(len(L)):\n",
    "        if check_genap(L[i]):\n",
    "            L[i] = L[i]/2\n",
    "        else:\n",
    "            L[i] = L[i]* n+1\n",
    "    return L"
   ]
  },
  {
   "cell_type": "code",
   "execution_count": 6,
   "metadata": {},
   "outputs": [
    {
     "name": "stdout",
     "output_type": "stream",
     "text": [
      "[16, 3.0, 22, 4.0]\n"
     ]
    }
   ],
   "source": [
    "n = 3\n",
    "L = [5,6,7,8]\n",
    "print(fungsiku(L))"
   ]
  },
  {
   "cell_type": "markdown",
   "metadata": {},
   "source": [
    "2. Ubah fungsiku2 menjadi pure function!"
   ]
  },
  {
   "cell_type": "code",
   "execution_count": 3,
   "metadata": {},
   "outputs": [],
   "source": [
    "def fungsiku2(L):\n",
    "    def check_factor(l):\n",
    "        return l % n ==0\n",
    "    for i in range(len(L)):\n",
    "        if check_factor(L[i]):\n",
    "            L[i] = L[i]/2\n",
    "        else:\n",
    "            L[i] = L[i] * n+1\n",
    "    return L"
   ]
  },
  {
   "cell_type": "code",
   "execution_count": 4,
   "metadata": {},
   "outputs": [
    {
     "name": "stdout",
     "output_type": "stream",
     "text": [
      "[16, 3.0, 22, 25]\n",
      "[16, 3.0, 22, 25]\n"
     ]
    }
   ],
   "source": [
    "n = 3\n",
    "L = [5,6,7,8]\n",
    "print(list(fungsiku2(L)))\n",
    "print(L)"
   ]
  },
  {
   "cell_type": "markdown",
   "metadata": {},
   "source": [
    "3. Apakah isi dalam tupel tup ada yang dapat diubah ?\n",
    " - tup = ([3,4,5],'myname')"
   ]
  },
  {
   "cell_type": "markdown",
   "metadata": {},
   "source": [
    "*Function Building Function*"
   ]
  },
  {
   "cell_type": "markdown",
   "metadata": {},
   "source": [
    "# Pertemuan 13"
   ]
  },
  {
   "cell_type": "raw",
   "metadata": {},
   "source": [
    "Addku = lambda x: x + 10\n",
    "Powku = lambda x: x**2\n",
    "Kurku = lambda x: x - 2 * x\n",
    "\n",
    "a. Buatlah fungsi komposisi menggunakan 3 fungsi diatas yang melakukan hal sebagai berikut secara\n",
    "berurut:\n",
    "1. Menjumlahkan input dengan nilai 10\n",
    "2. Mengurangi input dengan 2 kali input nya\n",
    "3. Mengeluarkan nilai kuadrat dari input nya"
   ]
  },
  {
   "cell_type": "code",
   "execution_count": 1,
   "metadata": {},
   "outputs": [
    {
     "data": {
      "text/plain": [
       "-400"
      ]
     },
     "execution_count": 1,
     "metadata": {},
     "output_type": "execute_result"
    }
   ],
   "source": [
    "addku = lambda x:x+10\n",
    "powku = lambda x:x**2\n",
    "kurku = lambda x:x-2*x\n",
    "\n",
    "f_komp = lambda f,g: lambda x: f(g(x))\n",
    "ny_f_kom = f_komp(kurku, f_komp(powku, addku))\n",
    "\n",
    "ny_f_kom(10)"
   ]
  },
  {
   "cell_type": "code",
   "execution_count": 2,
   "metadata": {},
   "outputs": [
    {
     "data": {
      "text/plain": [
       "10.0"
      ]
     },
     "execution_count": 2,
     "metadata": {},
     "output_type": "execute_result"
    }
   ],
   "source": [
    "# invers\n",
    "inv_addku = lambda x: x-10\n",
    "inv_powku = lambda x:x**0.5\n",
    "inv_kurku = lambda x:-1*x\n",
    "\n",
    "my_f_kom_inv = f_komp( inv_addku, f_komp(inv_powku, inv_kurku))\n",
    "my_f_kom_inv(-400)"
   ]
  },
  {
   "cell_type": "code",
   "execution_count": 3,
   "metadata": {},
   "outputs": [],
   "source": [
    "def compose(*funcs):\n",
    "  def inner(f,g):\n",
    "    return lambda x:f(g(x))\n",
    "  return r(inner, reversed(funcs), lambda x:x)"
   ]
  },
  {
   "cell_type": "code",
   "execution_count": 6,
   "metadata": {},
   "outputs": [
    {
     "data": {
      "text/plain": [
       "-400"
      ]
     },
     "execution_count": 6,
     "metadata": {},
     "output_type": "execute_result"
    }
   ],
   "source": [
    "mycomp = compose(addku, powku, kurku)\n",
    "mycomp(10)"
   ]
  },
  {
   "cell_type": "raw",
   "metadata": {},
   "source": [
    "Latihan Penentuan UKT Mahasiswa\n",
    "\n",
    "Universitas di Lampung ITARE, ingin memiliki sistem penentuan golongan UKT dan\n",
    "jumlah biaya UKT yang dibayarkan oleh Mahasiswa berdasarkan Kriteria berikut:\n",
    "1. Jumlah tanggungan\n",
    "2. Jumlah token listrik selama 3 bulan terakhir\n",
    "3. Gaji Orang tua / Penanggung jawab\n",
    "4. Penerima program KIP-K atau bukan\n",
    "\n",
    "\n",
    "\n",
    "*   Ketentuan Jumlah Tanggungan :\n",
    "Jika lebih >= 5, maka skor = 1\n",
    "Jika < 5 , maka skor = 5 - jumlah tanggungan\n",
    "*   Ketentuan token listrik: Jika rata-rata lebih dari 100 ribu per bulan , maka skor = 3 Jika diantara 50 ribu - 100 ribu per bulan , maka skor = 2 Jika dibawah 50 ribu , maka skor = 1\n",
    "* Ketentuan Gaji :\n",
    "\n",
    "Jika gaji penanggung jawab > 10 juta maka skor = 7\n",
    "\n",
    "1. Jika 8 < gaji <= 10 juta, maka skor = 6\n",
    "2. Jika 6 < gaji <= 8 juta , maka skor = 5\n",
    "3. Jika 4 < gaji <= 6 juta , maka skor = 4\n",
    "4. Jika 3< gaji <= 4 juta , maka skor = 3\n",
    "5. Jika gaji < 3 juta , maka skor = 2\n",
    "\n",
    "* Jika mahasiswa memiliki KIP-K , maka skor = 1, jika tidak maka skor = 5"
   ]
  },
  {
   "cell_type": "raw",
   "metadata": {},
   "source": [
    "Latihan : Penentuan UKT Mahasiswa\n",
    "\n",
    "Gunakan fungsi komposisi untuk menyelesaikan masalah tersebut!\n",
    "Hitung berapa biaya UKT yang harus dibayarkan dengan input sebagai berikut:\n",
    "1. Jumlah tanggungan = 3\n",
    "2. Listrik 3 bulan terakhir = 120 ribu , 75 ribu , 50 ribu\n",
    "3. Gaji Penanggung jawab = 5.5 juta per bulan\n",
    "4. Peserta KIP-K = Tidak"
   ]
  },
  {
   "cell_type": "code",
   "execution_count": 12,
   "metadata": {},
   "outputs": [],
   "source": [
    "from functools import reduce as r\n",
    "# Define function composition\n",
    "mycompose = lambda *funcs: r( lambda f, g: lambda x: f(g(x)), reversed(funcs), lambda x:x )"
   ]
  },
  {
   "cell_type": "code",
   "execution_count": 2,
   "metadata": {},
   "outputs": [],
   "source": [
    "# Ketentuan jumlah tanggungan\n",
    "def skor1(jtg):\n",
    "    return 1 if jtg >= 5 else 5-jtg"
   ]
  },
  {
   "cell_type": "code",
   "execution_count": 3,
   "metadata": {},
   "outputs": [],
   "source": [
    "# Ketentuan token listrik\n",
    "def skor2(X):\n",
    "    def rata(X):\n",
    "        return sum(X)/len(X)\n",
    "\n",
    "    def l_cond_1(X):\n",
    "        return [X, [X>100000] ]\n",
    "    \n",
    "    def l_cond_2(X):\n",
    "        return [X[0], X[1] + [ X[0] >= 50000 ] ]\n",
    "\n",
    "    def to_score2(X):\n",
    "        return r( lambda a,b: a+ (1 if b == True else 0), X[1], 1)\n",
    "    \n",
    "    compose_cond = mycompose(rata, l_cond_1, l_cond_2, to_score2)\n",
    "    return compose_cond(X)"
   ]
  },
  {
   "cell_type": "code",
   "execution_count": 4,
   "metadata": {},
   "outputs": [],
   "source": [
    "# Ketentuan gaji\n",
    "def con_1(X):\n",
    "    return [X[0], 1, X[2], [ X[0] > X[2][X[1]] ] ]\n",
    "def con_2_to_n(X):\n",
    "    return [X[0], X[1]+1, X[2], X[3] + [ X[0] > X[2][X[1]] ] ]\n",
    "def to_score(X):\n",
    "    return r( lambda a,b: a+ (1 if b == True else 0), X[-1], 2)\n",
    "def prep(gj):\n",
    "    return [gj, 0, list(map( lambda x: x*1000000, list(range(10,3,-1)) + [3]) )]\n",
    "def skor3(gaji):\n",
    "    commpy = mycompose(prep, con_1, *(con_2_to_n for i in range(4)), to_score)\n",
    "    return commpy(gaji)"
   ]
  },
  {
   "cell_type": "code",
   "execution_count": 5,
   "metadata": {},
   "outputs": [],
   "source": [
    "# Ketentuan KIP K\n",
    "def skor4(X=True):\n",
    "    return 1 if X else 5"
   ]
  },
  {
   "cell_type": "code",
   "execution_count": 6,
   "metadata": {},
   "outputs": [],
   "source": [
    "def combineskor(X):\n",
    "    return X + [map( lambda f,x: f(x), X[1], X[0] )]\n",
    "def boboti(X):\n",
    "    return r( lambda a,b: a+b, map(lambda x,y: x*y, X[-1], [0.2, 0.3, 0.2, 0.3]) )\n",
    "def toUKT(X):\n",
    "    return 750000 + X*500000"
   ]
  },
  {
   "cell_type": "code",
   "execution_count": 7,
   "metadata": {},
   "outputs": [
    {
     "data": {
      "text/plain": [
       "2200000.0"
      ]
     },
     "execution_count": 7,
     "metadata": {},
     "output_type": "execute_result"
    }
   ],
   "source": [
    "mhs = [3,\n",
    "    [120000, 75000, 50000],\n",
    "    5.5 * 10**6,\n",
    "    False\n",
    "]\n",
    "datas = [mhs, [skor1, skor2, skor3, skor4] ]\n",
    "compose_fin = mycompose(combineskor, boboti, toUKT)\n",
    "compose_fin(datas)"
   ]
  },
  {
   "cell_type": "markdown",
   "metadata": {},
   "source": [
    "Polinom\n"
   ]
  },
  {
   "cell_type": "code",
   "execution_count": 8,
   "metadata": {},
   "outputs": [],
   "source": [
    "# Turnan polinom\n",
    "\n",
    "def split(dat):\n",
    "    return dat.replace(' ', '').replace('-','+-').split('+')\n",
    "def chdepan(dat):\n",
    "    return dat[1:] if dat[0] == '' else dat\n",
    "def eqkan(dat):\n",
    "    return map( lambda x: x if '^' in x else x+ '^1' if 'x' in x else x+ 'x^0', dat)\n",
    "def toarr2d(dat):\n",
    "    return r( lambda a, b: a + [[float(hurf) for hurf in b.split('x^')]] , dat, [])\n",
    "def sortdesc(dat):\n",
    "    return sorted(dat, key=lambda x: x[1], reverse=True)\n",
    "def calctur(dat):\n",
    "    return map( lambda x: [0,0] if x[1] == 0 else [x[1]*x[0], x[1]-1], dat)\n",
    "def tostr(dat):\n",
    "    return map( lambda x: '0' if x[0] == 0 else str(x[0]) if x[1]==0 else str(x[0]) + 'x^' + str(x[1]), dat)\n",
    "def prettykan(dat):\n",
    "    return r( lambda a,b: a+'+' + b if b != '0' else a, dat, '')\n",
    "def prettysign(dat):\n",
    "    return dat.replace('+-', ' -').replace('+', '+ ')"
   ]
  },
  {
   "cell_type": "code",
   "execution_count": 9,
   "metadata": {},
   "outputs": [
    {
     "data": {
      "text/plain": [
       "' -15.0x^4.0+ 4.0x^1.0 -4.0'"
      ]
     },
     "execution_count": 9,
     "metadata": {},
     "output_type": "execute_result"
    }
   ],
   "source": [
    "dat = '-3x^5 + 2x^2 -4x +5'\n",
    "fss = (split, chdepan, eqkan, toarr2d, sortdesc, calctur, tostr, prettykan, prettysign)\n",
    "my_turunan = mycompose(*fss)\n",
    "my_turunan(dat)"
   ]
  },
  {
   "cell_type": "markdown",
   "metadata": {},
   "source": [
    "Buatlah fungsi untuk menghitung biaya yang harus dibayar customer pada suatu e-commerce menggunakan higher order function. Buatlah decorator untuk mengeluarkan harga sebelum pajak dan sesudah pajak (pajak = 11%) ! Gunakan decorator untuk menambahkan perhitungan waktu eksekusi!"
   ]
  },
  {
   "cell_type": "code",
   "execution_count": 10,
   "metadata": {},
   "outputs": [],
   "source": [
    "from functools import reduce as r\n",
    "keranjang = [\n",
    "    {'Jumlah_Barang': 5, 'Harga:': 10 },\n",
    "    {'Jumlah_Barang': 7, 'Harga:': 20 },\n",
    "    {'Jumlah_Barang': 20, 'Harga:': 4.5 }\n",
    "]\n",
    "\n",
    "def pajak_decorator(func):\n",
    "    def inner(*args, **kwargs):\n",
    "        res = func(*args, **kwargs)\n",
    "        print('Sub Total: ', res)\n",
    "        print('Pajak: ', res * 0.01)\n",
    "        print('Total: ', res + res * 0.01)\n",
    "        return res\n",
    "    return inner\n",
    "\n",
    "import time\n",
    "\n",
    "def calc_time_decorator(func):\n",
    "    def inner(*args, **kwargs):\n",
    "        start = time.time()\n",
    "        res = func(*args, **kwargs)\n",
    "        end = time.time()\n",
    "        print('Time: ', end - start)\n",
    "        return res\n",
    "    return inner"
   ]
  },
  {
   "cell_type": "code",
   "execution_count": 11,
   "metadata": {},
   "outputs": [
    {
     "name": "stdout",
     "output_type": "stream",
     "text": [
      "Sub Total:  280000.0\n",
      "Pajak:  2800.0\n",
      "Total:  282800.0\n",
      "Time:  0.0\n"
     ]
    },
    {
     "data": {
      "text/plain": [
       "280000.0"
      ]
     },
     "execution_count": 11,
     "metadata": {},
     "output_type": "execute_result"
    }
   ],
   "source": [
    "@calc_time_decorator\n",
    "@pajak_decorator\n",
    "def hitung_pembayaran_1(keranjang):\n",
    "    return r( lambda a,b: a + (b['Jumlah_Barang'] * b['Harga:']), keranjang, 0) * 1000\n",
    "\n",
    "hitung_pembayaran_1(keranjang)"
   ]
  }
 ],
 "metadata": {
  "interpreter": {
   "hash": "487573f6083f88ea4e0d70a8f8fa0c2ca2be54f1783392b9422ae7990c630882"
  },
  "kernelspec": {
   "display_name": "Python 3 (ipykernel)",
   "language": "python",
   "name": "python3"
  },
  "language_info": {
   "codemirror_mode": {
    "name": "ipython",
    "version": 3
   },
   "file_extension": ".py",
   "mimetype": "text/x-python",
   "name": "python",
   "nbconvert_exporter": "python",
   "pygments_lexer": "ipython3",
   "version": "3.10.4"
  }
 },
 "nbformat": 4,
 "nbformat_minor": 4
}
