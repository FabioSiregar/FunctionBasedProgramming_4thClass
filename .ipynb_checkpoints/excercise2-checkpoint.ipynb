{
 "cells": [
  {
   "cell_type": "code",
   "execution_count": null,
   "metadata": {},
   "outputs": [],
   "source": [
    "import numpy as np\n",
    "a = open(\"text1.txt\", 'w')\n",
    "a.write(\"9502561694858652150281747994108545943651521215096841995237040384498740803993469376602031341619585763\")\n",
    "a.close()\n",
    "aa = open(\"text1.txt\", 'r')\n",
    "f1=np.array(aa.read().split(\"\\n\")).astype(float)\n",
    "ff1 = int(f1)\n",
    "\n",
    "\n",
    "b = open(\"text2.txt\", 'w')\n",
    "b.write(\"2116068642696162934965789080530992805391900568978958496201555855833896833372295507803936243187061092\")\n",
    "b.close()\n",
    "bb = open(\"text2.txt\", 'r')\n",
    "f2=np.array(bb.read().split(\"\\n\")).astype(float)\n",
    "ff2 = int(f2)\n",
    "\n",
    "f3 = ff1 + ff2\n",
    "print(f3)"
   ]
  }
 ],
 "metadata": {
  "language_info": {
   "name": "python"
  },
  "orig_nbformat": 4
 },
 "nbformat": 4,
 "nbformat_minor": 2
}
