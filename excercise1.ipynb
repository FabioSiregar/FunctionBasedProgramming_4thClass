{
 "cells": [
  {
   "cell_type": "code",
   "execution_count": 3,
   "metadata": {},
   "outputs": [
    {
     "name": "stdout",
     "output_type": "stream",
     "text": [
      "Sc+TV+Sc+TS-Sc+TV+Sc+TS-Se+Sg+TZ+Sf+Sc+T[+Qh+Qf+Qh+Qf+\n",
      "anaksainsdata2020kece\n"
     ]
    }
   ],
   "source": [
    "def encrypt(pwd):\n",
    "  splitpass = list(pwd)\n",
    "\n",
    "  asciipass = list()\n",
    "  for char in splitpass:\n",
    "    asciichar = ord(char)\n",
    "    asciipass.append(asciichar)\n",
    "\n",
    "  encryptedpass = \"\"\n",
    "  for num in asciipass:\n",
    "    firstval = num//26 + 80\n",
    "    secondval = num%26 + 80\n",
    "    if firstval > secondval:\n",
    "      thirdval = '-'\n",
    "    else:\n",
    "      thirdval = '+'\n",
    "\n",
    "    encryptedpass = encryptedpass + chr(firstval) + chr(secondval) + thirdval\n",
    "\n",
    "\n",
    "  return encryptedpass\n",
    "\n",
    "def decrypt(pwd):\n",
    "  splitpass = [pwd[i:i+3] for i in range(0, len(pwd), 3)]\n",
    "\n",
    "  asciipass = list()\n",
    "  for word in splitpass:\n",
    "    firstval = ord(word[0]) - 80\n",
    "    secval = ord(word[1]) - 80\n",
    "    val = 26 * firstval + secval\n",
    "    asciipass.append(val)\n",
    "\n",
    "  password = ''\n",
    "  for i in asciipass:\n",
    "    char = chr(i)\n",
    "    password = password + char\n",
    "\n",
    "  return password\n",
    "  \n",
    "a=encrypt('anakanakcerdas2020')\n",
    "b=decrypt('Sc-TV-Sc-TS+T[-Sc-TQ+TV-T[-Sf-Sc-T\\-Sc-Qh-Qf-Qh-Qf-TS+Sg-Se-Sg-')\n",
    "print(a)\n",
    "print(b)"
   ]
  }
 ],
 "metadata": {
  "interpreter": {
   "hash": "3fe9e6856859bba8bf2d9edb5e25f46132f5c330039d6110406462884d9c2f66"
  },
  "kernelspec": {
   "display_name": "Python 3.10.4 64-bit (windows store)",
   "language": "python",
   "name": "python3"
  },
  "language_info": {
   "codemirror_mode": {
    "name": "ipython",
    "version": 3
   },
   "file_extension": ".py",
   "mimetype": "text/x-python",
   "name": "python",
   "nbconvert_exporter": "python",
   "pygments_lexer": "ipython3",
   "version": "3.10.4"
  },
  "orig_nbformat": 4
 },
 "nbformat": 4,
 "nbformat_minor": 2
}
